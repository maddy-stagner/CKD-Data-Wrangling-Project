{
  "nbformat": 4,
  "nbformat_minor": 0,
  "metadata": {
    "colab": {
      "provenance": []
    },
    "kernelspec": {
      "name": "python3",
      "display_name": "Python 3"
    },
    "language_info": {
      "name": "python"
    }
  },
  "cells": [
    {
      "cell_type": "code",
      "execution_count": 2,
      "metadata": {
        "id": "p-d9qkSHAPLh"
      },
      "outputs": [],
      "source": [
        "import pandas as pd\n",
        "\n",
        "\n",
        "df = pd.read_csv('/content/ChronicKidneyDisease_EHRs_from_AbuDhabi.csv')\n",
        "\n"
      ]
    },
    {
      "cell_type": "code",
      "source": [
        "print(\"First 5 rows of the dataset:\")\n",
        "print(df.head())\n",
        "print(\"\\nDataset shape:\", df.shape)\n",
        "print(\"\\nData types and non-null counts:\")\n",
        "print(df.info())\n",
        "\n",
        "\n"
      ],
      "metadata": {
        "colab": {
          "base_uri": "https://localhost:8080/"
        },
        "id": "rAhK2Q4uAYTd",
        "outputId": "1e26edab-2740-4fc8-8656-8b42b837313e"
      },
      "execution_count": 3,
      "outputs": [
        {
          "output_type": "stream",
          "name": "stdout",
          "text": [
            "First 5 rows of the dataset:\n",
            "   Sex  AgeBaseline  HistoryDiabetes  HistoryCHD  HistoryVascular  \\\n",
            "0    0           64                0           0                0   \n",
            "1    0           52                0           0                0   \n",
            "2    0           56                0           0                0   \n",
            "3    0           58                0           0                0   \n",
            "4    0           63                1           0                0   \n",
            "\n",
            "   HistorySmoking  HistoryHTN   HistoryDLD  HistoryObesity  DLDmeds  ...  \\\n",
            "0               0            1           1               1        1  ...   \n",
            "1               0            1           1               1        0  ...   \n",
            "2               0            1           1               1        1  ...   \n",
            "3               0            0           1               1        1  ...   \n",
            "4               0            1           1               1        1  ...   \n",
            "\n",
            "   ACEIARB  CholesterolBaseline  CreatinineBaseline  eGFRBaseline  \\\n",
            "0        0                  4.8                59.0          93.3   \n",
            "1        0                  6.4                52.0         105.8   \n",
            "2        0                  6.4                57.0          99.8   \n",
            "3        0                  5.1                65.0          90.3   \n",
            "4        1                  5.0                70.0          79.7   \n",
            "\n",
            "   sBPBaseline  dBPBaseline  BMIBaseline  TimeToEventMonths  EventCKD35  \\\n",
            "0          144           87           40                 98           0   \n",
            "1          148           91           45                106           0   \n",
            "2          149           86           41                 88           0   \n",
            "3          116           68           32                103           0   \n",
            "4          132           63           31                105           0   \n",
            "\n",
            "   TIME_YEAR  \n",
            "0          8  \n",
            "1          9  \n",
            "2          7  \n",
            "3          9  \n",
            "4          9  \n",
            "\n",
            "[5 rows x 22 columns]\n",
            "\n",
            "Dataset shape: (491, 22)\n",
            "\n",
            "Data types and non-null counts:\n",
            "<class 'pandas.core.frame.DataFrame'>\n",
            "RangeIndex: 491 entries, 0 to 490\n",
            "Data columns (total 22 columns):\n",
            " #   Column               Non-Null Count  Dtype  \n",
            "---  ------               --------------  -----  \n",
            " 0   Sex                  491 non-null    int64  \n",
            " 1   AgeBaseline          491 non-null    int64  \n",
            " 2   HistoryDiabetes      491 non-null    int64  \n",
            " 3   HistoryCHD           491 non-null    int64  \n",
            " 4   HistoryVascular      491 non-null    int64  \n",
            " 5   HistorySmoking       491 non-null    int64  \n",
            " 6   HistoryHTN           491 non-null    int64  \n",
            " 7   HistoryDLD           491 non-null    int64  \n",
            " 8   HistoryObesity       491 non-null    int64  \n",
            " 9   DLDmeds              491 non-null    int64  \n",
            " 10  DMmeds               491 non-null    int64  \n",
            " 11  HTNmeds              491 non-null    int64  \n",
            " 12  ACEIARB              491 non-null    int64  \n",
            " 13  CholesterolBaseline  491 non-null    float64\n",
            " 14  CreatinineBaseline   491 non-null    float64\n",
            " 15  eGFRBaseline         491 non-null    float64\n",
            " 16  sBPBaseline          491 non-null    int64  \n",
            " 17  dBPBaseline          491 non-null    int64  \n",
            " 18  BMIBaseline          491 non-null    int64  \n",
            " 19  TimeToEventMonths    491 non-null    int64  \n",
            " 20  EventCKD35           491 non-null    int64  \n",
            " 21  TIME_YEAR            491 non-null    int64  \n",
            "dtypes: float64(3), int64(19)\n",
            "memory usage: 84.5 KB\n",
            "None\n"
          ]
        }
      ]
    },
    {
      "cell_type": "code",
      "source": [
        "print(\"\\nMissing values in each column:\")\n",
        "print(df.isnull().sum())\n",
        "\n"
      ],
      "metadata": {
        "colab": {
          "base_uri": "https://localhost:8080/"
        },
        "id": "L1-tfZKtAn7z",
        "outputId": "303f8da5-acc5-48ee-a2f8-3c02d59cc87b"
      },
      "execution_count": 4,
      "outputs": [
        {
          "output_type": "stream",
          "name": "stdout",
          "text": [
            "\n",
            "Missing values in each column:\n",
            "Sex                    0\n",
            "AgeBaseline            0\n",
            "HistoryDiabetes        0\n",
            "HistoryCHD             0\n",
            "HistoryVascular        0\n",
            "HistorySmoking         0\n",
            "HistoryHTN             0\n",
            "HistoryDLD             0\n",
            "HistoryObesity         0\n",
            "DLDmeds                0\n",
            "DMmeds                 0\n",
            "HTNmeds                0\n",
            "ACEIARB                0\n",
            "CholesterolBaseline    0\n",
            "CreatinineBaseline     0\n",
            "eGFRBaseline           0\n",
            "sBPBaseline            0\n",
            "dBPBaseline            0\n",
            "BMIBaseline            0\n",
            "TimeToEventMonths      0\n",
            "EventCKD35             0\n",
            "TIME_YEAR              0\n",
            "dtype: int64\n"
          ]
        }
      ]
    },
    {
      "cell_type": "code",
      "source": [
        "\n",
        "print(\"\\nSummary statistics:\")\n",
        "print(df.describe())\n",
        "\n",
        "\n"
      ],
      "metadata": {
        "colab": {
          "base_uri": "https://localhost:8080/"
        },
        "id": "Y3vGq2JTAsZP",
        "outputId": "f507aec7-2233-49a4-f35a-08ae3547253c"
      },
      "execution_count": 5,
      "outputs": [
        {
          "output_type": "stream",
          "name": "stdout",
          "text": [
            "\n",
            "Summary statistics:\n",
            "              Sex  AgeBaseline  HistoryDiabetes  HistoryCHD  HistoryVascular  \\\n",
            "count  491.000000   491.000000       491.000000  491.000000       491.000000   \n",
            "mean     0.509165    53.203666         0.437882    0.091650         0.059063   \n",
            "std      0.500426    13.821282         0.496632    0.288825         0.235983   \n",
            "min      0.000000    23.000000         0.000000    0.000000         0.000000   \n",
            "25%      0.000000    44.000000         0.000000    0.000000         0.000000   \n",
            "50%      1.000000    54.000000         0.000000    0.000000         0.000000   \n",
            "75%      1.000000    64.000000         1.000000    0.000000         0.000000   \n",
            "max      1.000000    89.000000         1.000000    1.000000         1.000000   \n",
            "\n",
            "       HistorySmoking  HistoryHTN   HistoryDLD  HistoryObesity     DLDmeds  \\\n",
            "count      491.000000   491.000000  491.000000      491.000000  491.000000   \n",
            "mean         0.152749     0.682281    0.645621        0.505092    0.551935   \n",
            "std          0.360113     0.466064    0.478812        0.500484    0.497803   \n",
            "min          0.000000     0.000000    0.000000        0.000000    0.000000   \n",
            "25%          0.000000     0.000000    0.000000        0.000000    0.000000   \n",
            "50%          0.000000     1.000000    1.000000        1.000000    1.000000   \n",
            "75%          0.000000     1.000000    1.000000        1.000000    1.000000   \n",
            "max          1.000000     1.000000    1.000000        1.000000    1.000000   \n",
            "\n",
            "       ...     ACEIARB  CholesterolBaseline  CreatinineBaseline  eGFRBaseline  \\\n",
            "count  ...  491.000000           491.000000          491.000000    491.000000   \n",
            "mean   ...    0.446029             4.978574           67.856823     98.116090   \n",
            "std    ...    0.497586             1.096702           17.918627     18.503267   \n",
            "min    ...    0.000000             2.230000            6.000000     60.000000   \n",
            "25%    ...    0.000000             4.200000           55.000000     86.400000   \n",
            "50%    ...    0.000000             5.000000           66.000000     98.100000   \n",
            "75%    ...    1.000000             5.770000           78.500000    109.500000   \n",
            "max    ...    1.000000             9.300000          123.000000    242.600000   \n",
            "\n",
            "       sBPBaseline  dBPBaseline  BMIBaseline  TimeToEventMonths  EventCKD35  \\\n",
            "count   491.000000   491.000000   491.000000         491.000000  491.000000   \n",
            "mean    131.374745    76.871690    30.183299          83.065173    0.114053   \n",
            "std      15.692650    10.711134     6.236742          26.011140    0.318200   \n",
            "min      92.000000    41.000000    13.000000           0.000000    0.000000   \n",
            "25%     121.000000    69.000000    26.000000          77.000000    0.000000   \n",
            "50%     131.000000    77.000000    30.000000          93.000000    0.000000   \n",
            "75%     141.000000    83.000000    33.000000         100.000000    0.000000   \n",
            "max     180.000000   112.000000    57.000000         111.000000    1.000000   \n",
            "\n",
            "        TIME_YEAR  \n",
            "count  491.000000  \n",
            "mean     6.940937  \n",
            "std      2.201710  \n",
            "min      0.000000  \n",
            "25%      6.000000  \n",
            "50%      8.000000  \n",
            "75%      8.000000  \n",
            "max      9.000000  \n",
            "\n",
            "[8 rows x 22 columns]\n"
          ]
        }
      ]
    },
    {
      "cell_type": "code",
      "source": [
        "print(f\"\\nNumber of duplicate rows: {df.duplicated().sum()}\")\n",
        "\n",
        "print(\"\\nUnique values in 'Sex' column:\")\n",
        "print(df['Sex'].value_counts())\n",
        "\n"
      ],
      "metadata": {
        "colab": {
          "base_uri": "https://localhost:8080/"
        },
        "id": "B6hBmjXDAxxi",
        "outputId": "ad61a0c2-3498-4fd7-c45b-d47b0259d65e"
      },
      "execution_count": 6,
      "outputs": [
        {
          "output_type": "stream",
          "name": "stdout",
          "text": [
            "\n",
            "Number of duplicate rows: 0\n",
            "\n",
            "Unique values in 'Sex' column:\n",
            "Sex\n",
            "1    250\n",
            "0    241\n",
            "Name: count, dtype: int64\n"
          ]
        }
      ]
    },
    {
      "cell_type": "code",
      "source": [
        "\n",
        "df.columns = df.columns.str.strip().str.lower().str.replace(' ', '_')\n",
        "\n",
        "\n",
        "numerical_cols = df.select_dtypes(include=['float64', 'int64']).columns\n",
        "for col in numerical_cols:\n",
        "    df[col] = df[col].fillna(df[col].median())\n",
        "\n",
        "\n",
        "df = df.drop_duplicates()\n",
        "\n",
        "\n",
        "binary_cols = [col for col in df.columns if col.startswith('history') or col in ['eventckd35', 'dldmeds', 'dmmeds', 'htnmeds', 'aceiarb']]\n",
        "for col in binary_cols:\n",
        "    df[col] = df[col].astype(int)\n",
        "\n",
        "\n",
        "df['egfrbaseline'] = df['egfrbaseline'].clip(lower=0, upper=200)\n",
        "\n",
        "print(\"\\nData types after cleaning:\")\n",
        "print(df.info())\n",
        "\n"
      ],
      "metadata": {
        "colab": {
          "base_uri": "https://localhost:8080/"
        },
        "id": "36YLT4NuA3Tw",
        "outputId": "b5d5fb91-e1ae-404a-8c91-c3fcedb6a0ca"
      },
      "execution_count": 7,
      "outputs": [
        {
          "output_type": "stream",
          "name": "stdout",
          "text": [
            "\n",
            "Data types after cleaning:\n",
            "<class 'pandas.core.frame.DataFrame'>\n",
            "RangeIndex: 491 entries, 0 to 490\n",
            "Data columns (total 22 columns):\n",
            " #   Column               Non-Null Count  Dtype  \n",
            "---  ------               --------------  -----  \n",
            " 0   sex                  491 non-null    int64  \n",
            " 1   agebaseline          491 non-null    int64  \n",
            " 2   historydiabetes      491 non-null    int64  \n",
            " 3   historychd           491 non-null    int64  \n",
            " 4   historyvascular      491 non-null    int64  \n",
            " 5   historysmoking       491 non-null    int64  \n",
            " 6   historyhtn           491 non-null    int64  \n",
            " 7   historydld           491 non-null    int64  \n",
            " 8   historyobesity       491 non-null    int64  \n",
            " 9   dldmeds              491 non-null    int64  \n",
            " 10  dmmeds               491 non-null    int64  \n",
            " 11  htnmeds              491 non-null    int64  \n",
            " 12  aceiarb              491 non-null    int64  \n",
            " 13  cholesterolbaseline  491 non-null    float64\n",
            " 14  creatininebaseline   491 non-null    float64\n",
            " 15  egfrbaseline         491 non-null    float64\n",
            " 16  sbpbaseline          491 non-null    int64  \n",
            " 17  dbpbaseline          491 non-null    int64  \n",
            " 18  bmibaseline          491 non-null    int64  \n",
            " 19  timetoeventmonths    491 non-null    int64  \n",
            " 20  eventckd35           491 non-null    int64  \n",
            " 21  time_year            491 non-null    int64  \n",
            "dtypes: float64(3), int64(19)\n",
            "memory usage: 84.5 KB\n",
            "None\n"
          ]
        }
      ]
    },
    {
      "cell_type": "code",
      "source": [
        "bins = [0, 40, 60, float('inf')]\n",
        "labels = ['young', 'middle', 'senior']\n",
        "df['age_group'] = pd.cut(df['agebaseline'], bins=bins, labels=labels)\n",
        "\n",
        "\n",
        "def min_max_scale(col):\n",
        "    return (df[col] - df[col].min()) / (df[col].max() - df[col].min())\n",
        "df['sbpbaseline_scaled'] = min_max_scale('sbpbaseline')\n",
        "df['dbpbaseline_scaled'] = min_max_scale('dbpbaseline')\n",
        "\n",
        "grouped = df.groupby(['sex', 'historydiabetes']).agg({'egfrbaseline': 'mean'}).reset_index()\n",
        "print(\"\\nAverage eGFR by Sex and Diabetes History:\")\n",
        "print(grouped)\n",
        "\n",
        "\n",
        "df_htn = df[df['historyhtn'] == 1]\n",
        "\n",
        "print(\"\\nFirst 5 rows after transformations:\")\n",
        "print(df.head())\n",
        "\n"
      ],
      "metadata": {
        "colab": {
          "base_uri": "https://localhost:8080/"
        },
        "id": "nXCMahz6A-X3",
        "outputId": "c1455569-238d-46d8-db76-20da686f3b7a"
      },
      "execution_count": 8,
      "outputs": [
        {
          "output_type": "stream",
          "name": "stdout",
          "text": [
            "\n",
            "Average eGFR by Sex and Diabetes History:\n",
            "   sex  historydiabetes  egfrbaseline\n",
            "0    0                0    104.471831\n",
            "1    0                1     95.455556\n",
            "2    1                0    100.027612\n",
            "3    1                1     90.031034\n",
            "\n",
            "First 5 rows after transformations:\n",
            "   sex  agebaseline  historydiabetes  historychd  historyvascular  \\\n",
            "0    0           64                0           0                0   \n",
            "1    0           52                0           0                0   \n",
            "2    0           56                0           0                0   \n",
            "3    0           58                0           0                0   \n",
            "4    0           63                1           0                0   \n",
            "\n",
            "   historysmoking  historyhtn  historydld  historyobesity  dldmeds  ...  \\\n",
            "0               0           1           1               1        1  ...   \n",
            "1               0           1           1               1        0  ...   \n",
            "2               0           1           1               1        1  ...   \n",
            "3               0           0           1               1        1  ...   \n",
            "4               0           1           1               1        1  ...   \n",
            "\n",
            "   egfrbaseline  sbpbaseline  dbpbaseline  bmibaseline  timetoeventmonths  \\\n",
            "0          93.3          144           87           40                 98   \n",
            "1         105.8          148           91           45                106   \n",
            "2          99.8          149           86           41                 88   \n",
            "3          90.3          116           68           32                103   \n",
            "4          79.7          132           63           31                105   \n",
            "\n",
            "   eventckd35  time_year  age_group  sbpbaseline_scaled  dbpbaseline_scaled  \n",
            "0           0          8     senior            0.590909            0.647887  \n",
            "1           0          9     middle            0.636364            0.704225  \n",
            "2           0          7     middle            0.647727            0.633803  \n",
            "3           0          9     middle            0.272727            0.380282  \n",
            "4           0          9     senior            0.454545            0.309859  \n",
            "\n",
            "[5 rows x 25 columns]\n"
          ]
        }
      ]
    },
    {
      "cell_type": "code",
      "source": [
        "\n",
        "df.to_csv('ckd_wrangled.csv', index=False)\n",
        "\n",
        "\n",
        "grouped.to_csv('ckd_summary_by_sex_diabetes.csv', index=False)\n",
        "\n",
        "print(\"\\nWrangled dataset saved as 'ckd_wrangled.csv'\")\n",
        "print(\"Summary saved as 'ckd_summary_by_sex_diabetes.csv'\")"
      ],
      "metadata": {
        "colab": {
          "base_uri": "https://localhost:8080/"
        },
        "id": "u6BuZKgfBGIq",
        "outputId": "262566ab-3ebd-4bf1-c181-4497661a0511"
      },
      "execution_count": 10,
      "outputs": [
        {
          "output_type": "stream",
          "name": "stdout",
          "text": [
            "\n",
            "Wrangled dataset saved as 'ckd_wrangled.csv'\n",
            "Summary saved as 'ckd_summary_by_sex_diabetes.csv'\n"
          ]
        }
      ]
    },
    {
      "cell_type": "code",
      "source": [],
      "metadata": {
        "id": "yPyjQcTLBHJP"
      },
      "execution_count": null,
      "outputs": []
    }
  ]
}